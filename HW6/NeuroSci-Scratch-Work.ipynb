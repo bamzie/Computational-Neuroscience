{
 "cells": [
  {
   "cell_type": "code",
   "execution_count": 114,
   "id": "d1acb22d",
   "metadata": {},
   "outputs": [],
   "source": [
    "import numpy as np \n",
    "y1 = y2 = 1/(1+np.exp(-1)); \n",
    "r = 1000\n",
    "def sig(x):\n",
    "    return 1/(1+np.exp(-x)); \n",
    "\n",
    "# J update\n",
    "z_J1 = y1*sig(1)*(1-sig(1))\n",
    "e_j = 2*(0.612-0.05)*z_J1\n",
    "j = 1-r*e_j"
   ]
  },
  {
   "cell_type": "code",
   "execution_count": 115,
   "id": "03d701cb",
   "metadata": {},
   "outputs": [
    {
     "name": "stdout",
     "output_type": "stream",
     "text": [
      "0.19661193324148185\n",
      "0.04312916016242333\n",
      "0.04847717602256382\n",
      "-47.477176022563825\n"
     ]
    }
   ],
   "source": [
    "# W update \n",
    "y_w1 = (1/(1+np.exp(-1)))*(1-(1/(1+np.exp(-1))))\n",
    "print(y_w1)\n",
    "z_w1 = (1/(1+np.exp(-y1)))*(1-(1/(1+np.exp(-y1))))*y_w1\n",
    "print(z_w1)\n",
    "e_w1 = 2*(0.612-0.05)*z_w1\n",
    "print(e_w1)\n",
    "w1 = 1 - r*e_w1\n",
    "print(w1)"
   ]
  },
  {
   "cell_type": "code",
   "execution_count": 116,
   "id": "485915f5",
   "metadata": {},
   "outputs": [
    {
     "name": "stdout",
     "output_type": "stream",
     "text": [
      "y1: 2.1259565890167558e-42\n",
      "y2: 2.1259565890167558e-42\n",
      "z: 0.2689414213699951\n",
      "E: 0.04793534599151375\n"
     ]
    }
   ],
   "source": [
    "# Updated weights, new E\n",
    "f1 = w1+w1-1\n",
    "f2 = w1+w1-1\n",
    "\n",
    "y1 = sig(f1)\n",
    "print('y1:', y1)\n",
    "y2 = sig(f2); \n",
    "print('y2:', y2)\n",
    "z = sig(j*y1+j*y2 -1)\n",
    "print('z:', z)\n",
    "E = (z - 0.05)**2\n",
    "print('E:', E)"
   ]
  },
  {
   "cell_type": "code",
   "execution_count": null,
   "id": "3a530658",
   "metadata": {},
   "outputs": [],
   "source": []
  },
  {
   "cell_type": "code",
   "execution_count": null,
   "id": "caa04584",
   "metadata": {},
   "outputs": [],
   "source": []
  }
 ],
 "metadata": {
  "kernelspec": {
   "display_name": "Python 3",
   "language": "python",
   "name": "python3"
  },
  "language_info": {
   "codemirror_mode": {
    "name": "ipython",
    "version": 3
   },
   "file_extension": ".py",
   "mimetype": "text/x-python",
   "name": "python",
   "nbconvert_exporter": "python",
   "pygments_lexer": "ipython3",
   "version": "3.8.8"
  }
 },
 "nbformat": 4,
 "nbformat_minor": 5
}
