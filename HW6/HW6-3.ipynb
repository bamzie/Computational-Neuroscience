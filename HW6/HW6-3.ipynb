{
 "cells": [
  {
   "cell_type": "markdown",
   "id": "c3759d52",
   "metadata": {},
   "source": [
    "## Part A ##"
   ]
  },
  {
   "cell_type": "code",
   "execution_count": 127,
   "id": "d964a21b",
   "metadata": {},
   "outputs": [
    {
     "data": {
      "text/plain": [
       "[Text(0, 0.5, 'Error Loss')]"
      ]
     },
     "execution_count": 127,
     "metadata": {},
     "output_type": "execute_result"
    },
    {
     "data": {
      "image/png": "[encoded data removed]",
      "text/plain": [
       "<Figure size 432x288 with 1 Axes>"
      ]
     },
     "metadata": {
      "needs_background": "light"
     },
     "output_type": "display_data"
    }
   ],
   "source": [
    "from torch import nn\n",
    "import numpy as np\n",
    "import matplotlib.pyplot as plt\n",
    "import torch.optim as optim\n",
    "\n",
    "\n",
    "# we're defining an initialization function here\n",
    "class NANDNetwork(nn.Module):\n",
    "    def __init__(self, learningRate):\n",
    "        super().__init__()\n",
    "        \n",
    "        # Inputs to hidden layer linear transformation\n",
    "        self.hidden = nn.Linear(2,2)\n",
    "        # Output layer\n",
    "        self.output = nn.Linear(2, 1)\n",
    "        \n",
    "        # Define sigmoid activation and softmax output\n",
    "        # these are built in activation functions for the 'nn' neural network package\n",
    "        self.sigmoid = nn.Sigmoid()\n",
    "        \n",
    "        # add an optimizer so the weights update\n",
    "        self.optimizer = optim.SGD(self.parameters(), lr=learningRate)\n",
    "        \n",
    "        \n",
    "    def forward(self, x):\n",
    "        # Pass the input tensor through each of our operations\n",
    "        x = self.hidden(x)\n",
    "        x = self.sigmoid(x)\n",
    "        x = self.output(x)\n",
    "        x = self.sigmoid(x)\n",
    "        return x\n",
    "    \n",
    "    #Error function \n",
    "    def err(self, x, z): \n",
    "        return (x - z)**2; \n",
    "    \n",
    "    #BackPropogation\n",
    "    def backp(self, loss): \n",
    "        loss.backward(); \n",
    "    \n",
    "    \n",
    "model = NANDNetwork(0.5)\n",
    "\n",
    "\n",
    "inputs = [torch.tensor((0,0,0.05),dtype=torch.float), \n",
    "        torch.tensor((1,1,0.5),dtype=torch.float),\n",
    "        torch.tensor((1,0,0.95),dtype=torch.float), \n",
    "        torch.tensor((0,1,0.95),dtype=torch.float)]\n",
    "\n",
    "totalLoss = []\n",
    "for epoch_i in range(1000):\n",
    "        model.optimizer.zero_grad()\n",
    "        loss = 0\n",
    "        for input_idx in range(len(inputs)):\n",
    "            target = inputs[input_idx][2]\n",
    "            ps = model.forward(inputs[input_idx][:2])\n",
    "            loss += (model.err(ps, target))\n",
    "        loss = loss/len(inputs)\n",
    "        model.backp(loss)\n",
    "        model.optimizer.step()\n",
    "        totalLoss.append(loss.detach().numpy())\n",
    "        if loss < 0.05:\n",
    "            break\n",
    "fig,axes = plt.subplots(); \n",
    "axes.plot(totalLoss)\n",
    "axes.set(xlabel=\"Time\")\n",
    "axes.set(ylabel = 'Error Loss')"
   ]
  },
  {
   "cell_type": "markdown",
   "id": "5c83a16d",
   "metadata": {},
   "source": [
    "From my reported graphs it is always decreasing towards $0.0$ as our iterations loop. Some simulations decrease faster than other, nevertheless it is always decreasing. "
   ]
  },
  {
   "cell_type": "markdown",
   "id": "25e76a96",
   "metadata": {},
   "source": [
    "## Part B ##"
   ]
  },
  {
   "cell_type": "code",
   "execution_count": 116,
   "id": "62e62192",
   "metadata": {},
   "outputs": [
    {
     "data": {
      "text/plain": [
       "<matplotlib.legend.Legend at 0x7fb7d0006fa0>"
      ]
     },
     "execution_count": 116,
     "metadata": {},
     "output_type": "execute_result"
    },
    {
     "data": {
      "image/png": "[encoded data removed]",
      "text/plain": [
       "<Figure size 432x288 with 1 Axes>"
      ]
     },
     "metadata": {
      "needs_background": "light"
     },
     "output_type": "display_data"
    }
   ],
   "source": [
    "inputs = [torch.tensor((0,0,0.95),dtype=torch.float), \n",
    "        torch.tensor((1,1,0.5),dtype=torch.float),\n",
    "        torch.tensor((1,0,0.95),dtype=torch.float), \n",
    "        torch.tensor((0,1,0.95),dtype=torch.float)]\n",
    "\n",
    "learnStats = {}\n",
    "for learnR in [20, 15, 10, 7, 5, 1, 0.5, 0.01]:\n",
    "    learnStats[learnR] = []; \n",
    "    for run in range(10):\n",
    "        model = NANDNetwork(learnR)\n",
    "        totalLoss = []\n",
    "        for epoch_i in range(1000):\n",
    "                model.optimizer.zero_grad()\n",
    "                loss = 0\n",
    "                for input_idx in range(len(inputs)):\n",
    "                    target = inputs[input_idx][2]\n",
    "                    ps = model.forward(inputs[input_idx][:2])\n",
    "                    loss += (model.err(ps, target))\n",
    "                loss = loss/len(inputs)\n",
    "                model.backp(loss)\n",
    "                model.optimizer.step()\n",
    "                totalLoss.append(loss.detach().numpy())\n",
    "                if loss < 0.05:\n",
    "                    learnStats[learnR].append(epoch_i)\n",
    "                    break\n",
    "                if epoch_i == 1000: \n",
    "                    learnStats[learnR].append(epoch_i)\n",
    "                    \n",
    "fig,axes = plt.subplots(); \n",
    "for lR in learnStats.keys(): \n",
    "    axes.scatter(lR,np.mean(learnStats[lR]))\n",
    "axes.set(xlabel = 'Learning Rate')\n",
    "axes.set(ylabel = 'Time')\n",
    "axes.legend(learnStats)"
   ]
  },
  {
   "cell_type": "markdown",
   "id": "b0723739",
   "metadata": {},
   "source": [
    "Learning rate $r = 10 $ leads to the most rapid convergence for the neural network. \n",
    "\n",
    "I believe this is the case because as we increase our learning rate we rapidly decreasing the error loss. When we feed the network the new inputs it will calculate from the updated currents hence. We alos do not want to overshoot our learning rate because instead of learning faster we slow our neural network. \n",
    "\n",
    "We could modify the learning rate at its optimal rate to get our desired learning outcomes pace. "
   ]
  },
  {
   "cell_type": "code",
   "execution_count": null,
   "id": "94fc5044",
   "metadata": {},
   "outputs": [],
   "source": []
  }
 ],
 "metadata": {
  "kernelspec": {
   "display_name": "Python 3",
   "language": "python",
   "name": "python3"
  },
  "language_info": {
   "codemirror_mode": {
    "name": "ipython",
    "version": 3
   },
   "file_extension": ".py",
   "mimetype": "text/x-python",
   "name": "python",
   "nbconvert_exporter": "python",
   "pygments_lexer": "ipython3",
   "version": "3.8.8"
  }
 },
 "nbformat": 4,
 "nbformat_minor": 5
}
