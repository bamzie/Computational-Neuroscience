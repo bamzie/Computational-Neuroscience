{
 "cells": [
  {
   "cell_type": "markdown",
   "id": "9613c1c8",
   "metadata": {},
   "source": [
    "${\\mathit{\\Delta}}u = \\frac{kt}{q}\\log(\\frac{n_2}{n_1})$"
   ]
  },
  {
   "cell_type": "markdown",
   "id": "0afc21d4",
   "metadata": {},
   "source": [
    "Plug in values: "
   ]
  },
  {
   "cell_type": "markdown",
   "id": "fa4c6fda",
   "metadata": {},
   "source": [
    "$E_{ca} = \\frac{1.45x10^{-23}(293)}{2(1.6x10^-{19})}\\log(\\frac{1.2}{10^{-3}}) \\approx 89.50$"
   ]
  }
 ],
 "metadata": {
  "kernelspec": {
   "display_name": "Python 3",
   "language": "python",
   "name": "python3"
  },
  "language_info": {
   "codemirror_mode": {
    "name": "ipython",
    "version": 3
   },
   "file_extension": ".py",
   "mimetype": "text/x-python",
   "name": "python",
   "nbconvert_exporter": "python",
   "pygments_lexer": "ipython3",
   "version": "3.8.2"
  }
 },
 "nbformat": 4,
 "nbformat_minor": 5
}
