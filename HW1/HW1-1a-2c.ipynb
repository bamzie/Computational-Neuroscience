{
 "cells": [
  {
   "cell_type": "markdown",
   "id": "c629de1e",
   "metadata": {},
   "source": [
    "$1a) \\hspace{1cm} \\tau_m u'(t) = -[u(t) - u_{rest}] + RI(t) \\hspace{1cm}$ where $u(0) = u_{rest}$\n"
   ]
  },
  {
   "cell_type": "markdown",
   "id": "75238d6e",
   "metadata": {},
   "source": [
    "Let $u(t) - u_{rest} = y$ and $y' = u(t): $\n",
    "$\\newline \\tau_m y' = -y + RI$"
   ]
  },
  {
   "cell_type": "markdown",
   "id": "ac7533f1",
   "metadata": {},
   "source": [
    "$\\tau_m y' + y = RI \\Rightarrow y' + \\frac{1}{1/\\tau_m}y = \\frac{RI}{\\tau_m}$ where $\\mu = e^{t/\\tau_m}$"
   ]
  },
  {
   "cell_type": "markdown",
   "id": "03692235",
   "metadata": {},
   "source": [
    "$\\Rightarrow y'e^{\\frac{t}{\\tau_m}} + \\frac{e^{\\frac{t}{\\tau_m}}}{\\tau_m} y = \\frac{RIe^{\\frac{t}{\\tau_m}}}{\\tau_m}$\n",
    "$\\Rightarrow \\int \\frac{d}{dt}ye^{\\frac{t}{\\tau_m}} = \\int \\frac{RIe^{\\frac{t}{\\tau_m}}}{\\tau_m} \\frac{d}{dt}$\n",
    "$\\Rightarrow ye^{\\frac{t}{\\tau_m}} = RIe^{\\frac{t}{\\tau_m}} + C$"
   ]
  },
  {
   "cell_type": "markdown",
   "id": "36ae37c5",
   "metadata": {},
   "source": [
    "$\\Rightarrow y = RI + Ce^{-t/\\tau_m} \\Rightarrow u = u_rest + RI + Ce^{-t/\\tau_m}$"
   ]
  },
  {
   "cell_type": "markdown",
   "id": "443aaff5",
   "metadata": {},
   "source": [
    "$\\Rightarrow u(t) = u_{rest} + RI(1 - e^{-t/\\tau_m})$"
   ]
  },
  {
   "cell_type": "markdown",
   "id": "40f7f62d",
   "metadata": {},
   "source": [
    "$\\displaystyle 1b) \\hspace{1cm} \\lim_{t \\to \\infty} u(t) = u_{th}$"
   ]
  },
  {
   "cell_type": "markdown",
   "id": "deb6e5e1",
   "metadata": {},
   "source": [
    "$\\displaystyle \\lim_{t\\to\\infty} u_{rest} + R\\bar I(1 - e^{-t/\\tau_m}) \\Rightarrow u_{rest} + R\\bar I(1 - 0)$\n",
    "$\\newline\\Rightarrow u_{rest} + R\\bar I = u_{th}$"
   ]
  },
  {
   "cell_type": "markdown",
   "id": "8b14a2aa",
   "metadata": {},
   "source": [
    "$\\Rightarrow \\bar I = \\frac{u_{th} - u_{rest}}{r}$"
   ]
  },
  {
   "cell_type": "markdown",
   "id": "498c8ec3",
   "metadata": {},
   "source": [
    "$1c) \\hspace{1cm} u(t) = u_{rest} + RIe^{t/\\tau_m} + C \\hspace{1cm}$ where $\\hspace{1cm} u(0) = u_{start}$"
   ]
  },
  {
   "cell_type": "markdown",
   "id": "32860358",
   "metadata": {},
   "source": [
    "From similar work of 1a) we get: "
   ]
  },
  {
   "cell_type": "markdown",
   "id": "da46da2c",
   "metadata": {},
   "source": [
    "$u(t) = u_{rest} + (u_{start} - u_{rest})e^{-t/\\tau_m} + \\frac{RA}{\\tau_m}$"
   ]
  },
  {
   "cell_type": "markdown",
   "id": "d6a09e5a",
   "metadata": {},
   "source": [
    "Solving for A: "
   ]
  },
  {
   "cell_type": "markdown",
   "id": "ee6d9a26",
   "metadata": {},
   "source": [
    "$A = \\frac{\\tau_m(u_m - \\left[u_{rest} + (u_{start} - u_{rest})e^{-t/\\tau_m} \\right]}{R}$"
   ]
  },
  {
   "cell_type": "markdown",
   "id": "a985e77b",
   "metadata": {},
   "source": [
    "The minimum value of $A$ depends mainly on $R$ because $R$ cannot equal 0. Additionally, it depends on what value $u_{start}$ and $u_{rest}$ are because the will decide how much amplitude you will need to create a spike. If $u_{start}$ starts at a high voltage than you will need less amplitude. However, if $u_{rest}$ starts at a very low point, you will need more amplitude to generate a spike. "
   ]
  },
  {
   "cell_type": "markdown",
   "id": "6dc7f934",
   "metadata": {},
   "source": [
    "$1d) \\hspace{1cm} u(jT^+) = - [u(jT^+) - u_{rest}]e^{-T/\\tau_m} + \\frac{RA}{\\tau_m} + u_{rest} \\hspace{1cm}$ where $\\hspace{1cm} U = u(jT^+)$ "
   ]
  },
  {
   "cell_type": "markdown",
   "id": "50218da9",
   "metadata": {},
   "source": [
    "$u = [u - u_{rest}]e^{-T/\\tau_m} + \\frac{RA}{\\tau_m} + u_{rest}$"
   ]
  },
  {
   "cell_type": "markdown",
   "id": "7063b1c3",
   "metadata": {},
   "source": [
    "$\\Rightarrow u(1-e^{-T/\\tau_m}) = u_{rest}(1 - e^{-T/\\tau_m}) + \\frac{RA}{\\tau_m}$"
   ]
  },
  {
   "cell_type": "markdown",
   "id": "5d46724c",
   "metadata": {},
   "source": [
    "$\\Rightarrow u = u_{rest} + \\frac{RA}{\\tau_m(1 - e^{-T/\\tau_m})}$"
   ]
  },
  {
   "cell_type": "markdown",
   "id": "dfd4d8ea",
   "metadata": {},
   "source": [
    "Solve for T: "
   ]
  },
  {
   "cell_type": "markdown",
   "id": "3e899136",
   "metadata": {},
   "source": [
    "$1 - e^{-T}{\\tau_m} = \\frac{(u - u_{rest})\\tau_m}{RA}$\n",
    "$\\Rightarrow \\ln e^{-T/\\tau_m} = \\ln(1 - \\frac{(u - u_{rest})\\tau_m}{RA})$"
   ]
  },
  {
   "cell_type": "markdown",
   "id": "37c4d0fd",
   "metadata": {},
   "source": [
    "$\\Rightarrow T = \\tau^2_m [\\ln \\frac{(u-u_{rest})}{RA}]$"
   ]
  },
  {
   "cell_type": "markdown",
   "id": "937179f1",
   "metadata": {},
   "source": [
    "$2a) \\hspace{1cm} \\tau_x x' + x = \\delta(t) \\hspace{1cm}$ where $ x(0) = 0$"
   ]
  },
  {
   "cell_type": "markdown",
   "id": "7414325a",
   "metadata": {},
   "source": [
    "Using laplace transforms: "
   ]
  },
  {
   "cell_type": "markdown",
   "id": "70789689",
   "metadata": {},
   "source": [
    "$\\tau_x \\mathcal{L}[x'] + \\mathcal{L}[x] = \\mathcal{L}[\\delta(t)]$"
   ]
  },
  {
   "cell_type": "markdown",
   "id": "54d724a8",
   "metadata": {},
   "source": [
    "$\\Rightarrow \\mathcal{L}[x](s + \\frac{1}{\\tau_x}) = \\frac{1}{\\tau_x}$\n",
    "$\\Rightarrow \\mathcal{L}[x] = \\frac{1}{\\tau_x}\\frac{1}{s + 1/\\tau_x}$\n",
    "$\\Rightarrow \\mathcal{L}^{-1}[x] = \\frac{1}{\\tau_x} \\mathcal{L}^{-1}[ \\frac{1}{s + 1/\\tau_x}]$"
   ]
  },
  {
   "cell_type": "markdown",
   "id": "c9e7ba44",
   "metadata": {},
   "source": [
    "$\\Rightarrow x = \\frac{e^{-t/\\tau_x}}{\\tau_x}$"
   ]
  },
  {
   "cell_type": "markdown",
   "id": "b004925a",
   "metadata": {},
   "source": [
    "Pluggin $x$ into $\\hspace{1cm} \\tau_s I' = -I + I_0x \\hspace{1cm}$ where $I(0) = 0$"
   ]
  },
  {
   "cell_type": "markdown",
   "id": "8d1019d5",
   "metadata": {},
   "source": [
    "$\\tau_s I' = -I + \\frac{I_0 e^{-t/\\tau_x}}{\\tau_x} \\Rightarrow I' + \\frac{I}{\\tau_s} = \\frac{I_0 e^{-t/\\tau_m}}{\\tau_s\\tau_x} \\hspace{1cm}$ where $\\hspace{1cm} \\mu = e^{t/\\tau_s}$"
   ]
  },
  {
   "cell_type": "markdown",
   "id": "865f13b0",
   "metadata": {},
   "source": [
    "$I = I_0\\frac{e^{-t/\\tau_x} - e^{-t/\\tau_s}}{\\tau_x - \\tau_s}$"
   ]
  },
  {
   "cell_type": "markdown",
   "id": "ecb9b727",
   "metadata": {},
   "source": [
    "Plugging $I$ into $\\hspace{1cm} \\tau_s u' = -u + RI \\hspace{1cm}$ where $u(0) = 0$"
   ]
  },
  {
   "cell_type": "markdown",
   "id": "eb368cda",
   "metadata": {},
   "source": [
    "$\\tau_m u' = -u + RI_0\\frac{e^{-t/\\tau_x}- e^{-t/\\tau_s}}{\\tau_x - \\tau_s}$\n",
    "$\\Rightarrow u' + \\frac{u}{\\tau_m} = RI_0\\frac{e^{-t/\\tau_x}- e^{-t/\\tau_s}}{\\tau_m(\\tau_x - \\tau_s)} \\hspace{1cm}$\n",
    "where $\\hspace{1cm} \\mu = e^{t/\\tau_m}$"
   ]
  },
  {
   "cell_type": "markdown",
   "id": "fc33240c",
   "metadata": {},
   "source": [
    "$u = \\frac{RI_0}{\\tau_x - \\tau_s}[\\frac{\\tau_xe^{-t/\\tau_x}}{\\tau_x - \\tau_s} - \\frac{\\tau_se^{-t/\\tau_s}}{\\tau_s - \\tau_m}+ \\frac{\\tau_s - \\tau_x}{e^{t/\\tau_m}}]$"
   ]
  },
  {
   "cell_type": "markdown",
   "id": "ad3058ba",
   "metadata": {},
   "source": [
    "From the equation above, the amplitude increases with R. Similarly with $I_0$. Since, they are the numerators the amplitude will increase. "
   ]
  },
  {
   "cell_type": "markdown",
   "id": "a403ad16",
   "metadata": {},
   "source": [
    "As $\\tau_s \\to 0$, we obtain:"
   ]
  },
  {
   "cell_type": "markdown",
   "id": "13e56fde",
   "metadata": {},
   "source": [
    "$\\displaystyle \\lim_{\\tau_s \\to 0}u = RI_0(\\frac{e^{-t/\\tau_x}}{\\tau_x - \\tau_m} - \\frac{1}{e^{t/\\tau_m}})$"
   ]
  },
  {
   "cell_type": "markdown",
   "id": "ed4f06c8",
   "metadata": {},
   "source": [
    "and as $\\tau_m \\to 0$, we have: "
   ]
  },
  {
   "cell_type": "markdown",
   "id": "1c41e3c1",
   "metadata": {},
   "source": [
    "$\\displaystyle \\lim_{\\tau_m \\to 0}u = \\frac{RI_0e^{-t/\\tau_x}}{\\tau_x}$"
   ]
  },
  {
   "cell_type": "markdown",
   "id": "cd52c3bb",
   "metadata": {},
   "source": [
    "We are left with the Resistor and Input because $\\tau_m$ and $\\tau_s$ cancel the rest. $\\tau_x$ is the only constant variable left. "
   ]
  },
  {
   "cell_type": "markdown",
   "id": "810b60c8",
   "metadata": {},
   "source": [
    "$2b)$"
   ]
  },
  {
   "cell_type": "markdown",
   "id": "cf805f09",
   "metadata": {},
   "source": [
    "$0 = -u_1 + I_1 + g(u_2 - u_1)$\n",
    "$\\newline 0 = -u_2 + g(u_1 - u_2)$"
   ]
  },
  {
   "cell_type": "markdown",
   "id": "a56d12ed",
   "metadata": {},
   "source": [
    "Looking for $u_2$ in terms of $u_1$: "
   ]
  },
  {
   "cell_type": "markdown",
   "id": "ed1a6746",
   "metadata": {},
   "source": [
    "$0 = gu_1 - gu_2 - u_2$\n",
    "$\\Rightarrow u_2 = \\frac{gu_1}{g + 1}$"
   ]
  },
  {
   "cell_type": "markdown",
   "id": "a57c1838",
   "metadata": {},
   "source": [
    "Plug into first component: "
   ]
  },
  {
   "cell_type": "markdown",
   "id": "2c29ffc8",
   "metadata": {},
   "source": [
    "$0 = -u_1 + I_1 + g(\\frac{gu_1}{g+1} - u_1)$\n",
    "$\\Rightarrow 0= I + (\\frac{g^2}{g+1} - g - 1)u_1$"
   ]
  },
  {
   "cell_type": "markdown",
   "id": "df0248dc",
   "metadata": {},
   "source": [
    "$u_1 = -\\frac{I}{\\frac{g^2}{g+1} - g -1}$"
   ]
  },
  {
   "cell_type": "markdown",
   "id": "7203bc76",
   "metadata": {},
   "source": [
    "$R_{input}(g) = \\frac{u_1}{I}$ plug in $u_1$"
   ]
  },
  {
   "cell_type": "markdown",
   "id": "b474765c",
   "metadata": {},
   "source": [
    "$R_{input}(g) = \\frac{g+1}{2g+1}$"
   ]
  },
  {
   "cell_type": "markdown",
   "id": "bbc2acb9",
   "metadata": {},
   "source": [
    "From the solution, it seems that as g gets large the denominator grows faster than the numerator therefore, reaching a limit closer to 1. Note that $g \\neq \\frac{1}{2}$ else that denominator is undefined.  "
   ]
  },
  {
   "cell_type": "markdown",
   "id": "cb8e1ccc",
   "metadata": {},
   "source": [
    "$2c)$"
   ]
  },
  {
   "cell_type": "markdown",
   "id": "cdaf354e",
   "metadata": {},
   "source": [
    "$0 = -u_1 + I_1 + g(u_2 - u_1)$\n",
    "$\\newline 0 = -u_2 + g(u_1 -2u_2 + u_3)$\n",
    "$\\newline 0 = -u_3 + g(u_2 - u_3)$"
   ]
  },
  {
   "cell_type": "markdown",
   "id": "6adb2a72",
   "metadata": {},
   "source": [
    "Start with $u_3$: "
   ]
  },
  {
   "cell_type": "markdown",
   "id": "d43ad4d8",
   "metadata": {},
   "source": [
    "$0 = gu_2 - (g+1)u_3$\n",
    "$\\Rightarrow u_3 = \\frac{-gu_2}{g+1}$"
   ]
  },
  {
   "cell_type": "markdown",
   "id": "786571d0",
   "metadata": {},
   "source": [
    "Plug into second compartment: "
   ]
  },
  {
   "cell_type": "markdown",
   "id": "ef1db949",
   "metadata": {},
   "source": [
    "$0 = -u_2 + g(u_1 -2u_2 + \\frac{gu_2}{g+1})$\n",
    "$\\Rightarrow 0 = gu_1 - (\\frac{g^2}{g+1} + 2g + 1)u_2$"
   ]
  },
  {
   "cell_type": "markdown",
   "id": "7327ef0f",
   "metadata": {},
   "source": [
    "$u_2 = u_1\\frac{g(g+1)}{3g^2 + 3g + 1}$"
   ]
  },
  {
   "cell_type": "markdown",
   "id": "3f6b2b32",
   "metadata": {},
   "source": [
    "Plug into first compartment: "
   ]
  },
  {
   "cell_type": "markdown",
   "id": "e60b6071",
   "metadata": {},
   "source": [
    "$0 = -u_1 + I_1 + g(u_1\\frac{g(g+1)}{3g^2 + 3g + 1} - u_1)$\n",
    "$\\Rightarrow0 = I + u_1\\frac{g^2(g+1)}{3g^2 + 3g + 1} - gu_1 - u_1$"
   ]
  },
  {
   "cell_type": "markdown",
   "id": "6dbfd07f",
   "metadata": {},
   "source": [
    "$u_1 = -\\frac{I}{\\frac{g^2(g+1)}{3g^2 + 3g + 1} - g- 1}$"
   ]
  },
  {
   "cell_type": "markdown",
   "id": "2a6532e0",
   "metadata": {},
   "source": [
    "$R_{input}(g) = \\frac{3g^2 + 3g + 1}{(g+1)^2(2g+1)}$"
   ]
  },
  {
   "cell_type": "markdown",
   "id": "ece4019a",
   "metadata": {},
   "source": [
    "As more compartments are added the denominator will begin to increase faster than the numerator. So, more compartments will have less of a significance to the input resistance. "
   ]
  }
 ],
 "metadata": {
  "kernelspec": {
   "display_name": "Python 3",
   "language": "python",
   "name": "python3"
  },
  "language_info": {
   "codemirror_mode": {
    "name": "ipython",
    "version": 3
   },
   "file_extension": ".py",
   "mimetype": "text/x-python",
   "name": "python",
   "nbconvert_exporter": "python",
   "pygments_lexer": "ipython3",
   "version": "3.8.2"
  }
 },
 "nbformat": 4,
 "nbformat_minor": 5
}
