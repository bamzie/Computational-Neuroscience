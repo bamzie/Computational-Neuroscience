{
 "cells": [
  {
   "cell_type": "markdown",
   "metadata": {},
   "source": [
    "## Leaky Integrate and Fire Model"
   ]
  },
  {
   "cell_type": "markdown",
   "metadata": {},
   "source": [
    "Following the arguments of Gerstner et al (2014), we consider a simple resistor/capacitor (RC) circuit model of a neuron integrating current input. The law of current conservation implies\n",
    "$$\n",
    "I(t) = I_R + I_C \\\\\n",
    "$$\n",
    "input current $I(t)$ is split into resistive and capacitive current. Ohm's law implies $I_R = u_R/R$ where $u_R = u - u_{\\rm rest}$ is the voltage across the resistor. Capacitive current is $I_C = dq/dt = C du/dt$ where we used the definition of capacity $C = q/u$, so that\n",
    "$$\n",
    "I(t) = \\frac{u(t) - u_{\\rm rest}}{R} + C \\frac{du}{dt}. \\\\\n",
    "$$\n",
    "Rearranging and defining $\\tau_m = RC$ (since $R$ has units of ohms ($\\Omega$) and $C$ has units of farads and ohms times farads equals seconds (the curious reader should look this up!), we have:\n",
    "$$\n",
    "\\tau_m \\frac{du}{dt} = - \\left[ u(t) - u_{\\rm rest} \\right] + RI(t), \\\\\n",
    "$$\n",
    "where $u$ is the membrane potential and $\\tau_m$ is the membrane time constant.\n",
    "    Clearly, as the above equation is linear, it will simply filter any input $I(t)$ with some lag. Therefore, to account for the spiking mechanism of natural neurons, we assume that there is a threshold voltage $u_{\\rm th}$ at which a *spike* is initiated, followed by a reset of the voltage to the resting potential. This suggests the following conditional reset equation\n",
    "$$\n",
    "{\\rm if} \\ u(t)\\geq u_{\\rm th} \\ {\\rm then} \\ u(t^+) \\mapsto u_{\\rm rest},\n",
    "$$\n",
    "and any time $t_j$ at which $u(t_j)\\geq u_{\\rm th}$ is deemed a *spike time*, leading to a vector of spike times $(t_1, t_2, t_3,...)$. You will study this model in detail on HW1."
   ]
  },
  {
   "cell_type": "markdown",
   "metadata": {},
   "source": [
    "    "
   ]
  },
  {
   "cell_type": "markdown",
   "metadata": {},
   "source": [
    "Below we instantiate python code associated with the above differential equation (these are called lif_mod.py and lif_per.py in the python code folder). Note, we will want to use numerical methods and plotting, and as such we import *numpy* and *matplotlib*."
   ]
  },
  {
   "cell_type": "code",
   "execution_count": 2,
   "metadata": {},
   "outputs": [],
   "source": [
    "import numpy as np\n",
    "import matplotlib.pyplot as plt"
   ]
  },
  {
   "cell_type": "markdown",
   "metadata": {},
   "source": [
    "Now we can refer to any numpy functions using np.* and any matplotlib python plotting functions using plt.*"
   ]
  },
  {
   "cell_type": "markdown",
   "metadata": {},
   "source": [
    "To begin, let's use Euler's method to solve the above LIF model in the case of a constant current input $I(t) = \\bar{I}$. This requires initializing model parameters and running a for-loop. All relevant model parameters are given (units are in comments):"
   ]
  },
  {
   "cell_type": "code",
   "execution_count": 3,
   "metadata": {},
   "outputs": [],
   "source": [
    "taum = 1    # membrane time constant (ms)\n",
    "urest = 0   # resting potential (mV)\n",
    "R = 1       # resistance (ohms)\n",
    "I = 2       # input current (mA)\n",
    "uth = 1     # spiking threshold (mV)"
   ]
  },
  {
   "cell_type": "markdown",
   "metadata": {},
   "source": [
    "And simulation parameters are given (relevant units also in comments):"
   ]
  },
  {
   "cell_type": "code",
   "execution_count": 4,
   "metadata": {},
   "outputs": [],
   "source": [
    "T = 2      # total time to run\n",
    "dt = 0.001   # time step\n",
    "nt = int(np.round(T/dt)+1)     # number of entries in vector array\n",
    "tvec = np.linspace(0,T,nt)     # time vector (ms)\n",
    "\n",
    "u = np.zeros(nt)   # vector of voltage entries (mV)\n",
    "st = 0             # initialize vector of spike times (ms)"
   ]
  },
  {
   "cell_type": "markdown",
   "metadata": {},
   "source": [
    "If you're a MATLAB user, you will recognize common MATLAB numerical/vector functions in the above, preceded by *np.*. Now we run the for-loop for Euler's method with the timestep (dt) given above:"
   ]
  },
  {
   "cell_type": "code",
   "execution_count": 5,
   "metadata": {},
   "outputs": [],
   "source": [
    "for j in np.arange(nt-1):\n",
    "    u[j+1] = u[j]+dt*(R*I-u[j])/taum;\n",
    "    if u[j+1]>uth:\n",
    "        u[j+1]=urest;                   # reset the voltage to resting potential\n",
    "        st = np.append(st,tvec[j+1])    # add on another spike time"
   ]
  },
  {
   "cell_type": "markdown",
   "metadata": {},
   "source": [
    "So now, we have the vector *u*, which contains all output voltage values from the simulation. Note, we had to insert an *if* statement to instantiate the reset condition and within this reset condition, we updated the spike time vector (with the append function)."
   ]
  },
  {
   "cell_type": "markdown",
   "metadata": {},
   "source": [
    "Let's conclude by plotting. To do so, we'll use matplotlib (similar to common MATLAB plotting functions). Note there are other ways of plotting in python, but this is perhaps the most accessible to those trained in MATLAB -- commands will look familiar:"
   ]
  },
  {
   "cell_type": "code",
   "execution_count": 6,
   "metadata": {},
   "outputs": [
    {
     "data": {
      "image/png": "[encoded data removed]",
      "text/plain": [
       "<Figure size 360x360 with 1 Axes>"
      ]
     },
     "metadata": {
      "needs_background": "light"
     },
     "output_type": "display_data"
    }
   ],
   "source": [
    "fig = plt.figure(figsize=(5,5))  # initialize figure with a given area in inches\n",
    "plt.plot(tvec,u,linewidth=4.0)  # plot command with vectors as arguments\n",
    "plt.xlabel('time (ms)')         # label for x-axis\n",
    "plt.ylabel('voltage (mV)')      # label for y-axis\n",
    "plt.show()                      # needed in order to actually produce the plot for you to see"
   ]
  },
  {
   "cell_type": "markdown",
   "metadata": {},
   "source": [
    "In HW1, you will experiment with the effects of different currents on the spike rate of the neuron, but as you can see above, we provided a large enough current to initiate multiple spikes."
   ]
  },
  {
   "cell_type": "markdown",
   "metadata": {},
   "source": [
    "Current inputs need not be constant, we can also consider periodic inputs $I(t) = I_0 + I_1 \\sin (\\omega t)$. For simplicity, let's present the case $I(t) = A \\sin (t)$, so now we must define the parameter $A$ (in mA):"
   ]
  },
  {
   "cell_type": "code",
   "execution_count": 7,
   "metadata": {},
   "outputs": [],
   "source": [
    "A = 1.5     # current modulation amplitude (mA)"
   ]
  },
  {
   "cell_type": "markdown",
   "metadata": {},
   "source": [
    "And let's update the time vector to make it a bit longer, and reinitialize the membrane voltage $u$ and spike time vector."
   ]
  },
  {
   "cell_type": "code",
   "execution_count": 8,
   "metadata": {},
   "outputs": [],
   "source": [
    "T = 20      # total time to run\n",
    "dt = 0.001   # time step\n",
    "nt = int(np.round(T/dt)+1)     # number of entries in vector array\n",
    "tvec = np.linspace(0,T,nt)     # time vector (in ms)\n",
    "\n",
    "u = np.zeros(nt);   # vector of voltage entries\n",
    "st = 0              # initialize vector to store spike times"
   ]
  },
  {
   "cell_type": "markdown",
   "metadata": {},
   "source": [
    "And the only update to our previous for-loop needed is the addition of a line defining this periodic input, which will occur first each iteration:"
   ]
  },
  {
   "cell_type": "code",
   "execution_count": 9,
   "metadata": {},
   "outputs": [],
   "source": [
    "for j in np.arange(nt-1):\n",
    "    I = A*np.sin(tvec[j])               # \n",
    "    u[j+1] = u[j]+dt*(R*I-u[j])/taum    # update the voltage\n",
    "    if u[j+1]>uth:\n",
    "        u[j+1]=urest                    # reset the spike voltage\n",
    "        st = np.append(st,tvec[j+1])    # add spike time to vector"
   ]
  },
  {
   "cell_type": "markdown",
   "metadata": {},
   "source": [
    "And now we see that the output voltage trace looks quite different due to the oscillating input:"
   ]
  },
  {
   "cell_type": "code",
   "execution_count": 10,
   "metadata": {},
   "outputs": [
    {
     "data": {
      "image/png": "[encoded data removed]",
      "text/plain": [
       "<Figure size 360x360 with 1 Axes>"
      ]
     },
     "metadata": {
      "needs_background": "light"
     },
     "output_type": "display_data"
    }
   ],
   "source": [
    "fig = plt.figure(figsize=(5,5))       \n",
    "plt.plot(tvec,u,linewidth=4.0)\n",
    "plt.xlabel('time (ms)')\n",
    "plt.ylabel('voltage (mV)')\n",
    "plt.show()"
   ]
  },
  {
   "cell_type": "markdown",
   "metadata": {},
   "source": [
    "Lastly, let's show what happens for pulsatile stimuli. In this case, we have $\\tau_m u' = -(u- u_{\\rm rest}) + R \\delta (t-t_j)$, which essentially amounts to adding $R/\\tau_m$ at time $t=t_j$. Let's see what this looks like."
   ]
  },
  {
   "cell_type": "code",
   "execution_count": 11,
   "metadata": {},
   "outputs": [],
   "source": [
    "tj = 2\n",
    "\n",
    "for j in np.arange(nt-1):\n",
    "    u[j+1] = u[j]+dt*(-u[j])/taum;\n",
    "    \n",
    "    if j*dt==tj:\n",
    "        u[j+1]=u[j+1]+R/taum\n",
    "    \n",
    "    if u[j+1]>uth:\n",
    "        u[j+1]=urest;                   # reset the voltage to resting potential\n",
    "        st = np.append(st,tvec[j+1])    # add on another spike time"
   ]
  },
  {
   "cell_type": "code",
   "execution_count": 12,
   "metadata": {},
   "outputs": [
    {
     "data": {
      "image/png": "[encoded data removed]",
      "text/plain": [
       "<Figure size 360x360 with 1 Axes>"
      ]
     },
     "metadata": {
      "needs_background": "light"
     },
     "output_type": "display_data"
    }
   ],
   "source": [
    "fig = plt.figure(figsize=(5,5))       \n",
    "plt.plot(tvec,u,linewidth=4.0)\n",
    "plt.xlabel('time (ms)')\n",
    "plt.ylabel('voltage (mV)')\n",
    "plt.show()"
   ]
  },
  {
   "cell_type": "code",
   "execution_count": null,
   "metadata": {},
   "outputs": [],
   "source": []
  }
 ],
 "metadata": {
  "kernelspec": {
   "display_name": "Python 3",
   "language": "python",
   "name": "python3"
  },
  "language_info": {
   "codemirror_mode": {
    "name": "ipython",
    "version": 3
   },
   "file_extension": ".py",
   "mimetype": "text/x-python",
   "name": "python",
   "nbconvert_exporter": "python",
   "pygments_lexer": "ipython3",
   "version": "3.8.8"
  }
 },
 "nbformat": 4,
 "nbformat_minor": 2
}
